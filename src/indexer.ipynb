{
 "cells": [
  {
   "cell_type": "code",
   "execution_count": 17,
   "metadata": {},
   "outputs": [],
   "source": [
    "import os\n",
    "from whoosh.fields import Schema, ID, TEXT\n",
    "from whoosh.index import create_in, open_dir\n",
    "from whoosh.writing import AsyncWriter\n",
    "from whoosh.qparser import QueryParser"
   ]
  },
  {
   "cell_type": "code",
   "execution_count": 8,
   "metadata": {},
   "outputs": [],
   "source": [
    "schema = Schema(filename=ID(stored=True), content=TEXT)"
   ]
  },
  {
   "cell_type": "code",
   "execution_count": 10,
   "metadata": {},
   "outputs": [],
   "source": [
    "path = \"../data/index_directory\"\n",
    "\n",
    "if not os.path.exists(path):\n",
    "    os.mkdir(path=path)"
   ]
  },
  {
   "cell_type": "code",
   "execution_count": 11,
   "metadata": {},
   "outputs": [],
   "source": [
    "indx = create_in(path, schema=schema)"
   ]
  },
  {
   "cell_type": "code",
   "execution_count": 13,
   "metadata": {},
   "outputs": [],
   "source": [
    "iter_index = open_dir(path)\n",
    "\n",
    "docum_path = \"../data/scrapped/class_data_function__1_1\""
   ]
  },
  {
   "cell_type": "code",
   "execution_count": 16,
   "metadata": {},
   "outputs": [],
   "source": [
    "with AsyncWriter(iter_index) as writer:\n",
    "    for filename in os.listdir(docum_path):\n",
    "        filepath = os.path.join(docum_path, filename)\n",
    "\n",
    "        if filename.endswith(\".txt\"):\n",
    "            with open(filepath, \"r\", encoding=\"utf-8\") as file:\n",
    "                content = file.read()\n",
    "            writer.add_document(filename=filename, content=content)"
   ]
  },
  {
   "cell_type": "code",
   "execution_count": 18,
   "metadata": {},
   "outputs": [],
   "source": [
    "indexer = open_dir(path)"
   ]
  },
  {
   "cell_type": "code",
   "execution_count": 19,
   "metadata": {},
   "outputs": [
    {
     "name": "stdout",
     "output_type": "stream",
     "text": [
      "File random.Random.random.txt\n",
      "File random.uniform.txt\n",
      "File random.randint.txt\n",
      "File random.Random.getstate.txt\n",
      "File random.Random.txt\n",
      "File random.Random.getrandbits.txt\n",
      "File random.Random.seed.txt\n",
      "File random.Random.setstate.txt\n",
      "File random.choice.txt\n",
      "File os.GRND_RANDOM.txt\n"
     ]
    }
   ],
   "source": [
    "with indexer.searcher() as searcher:\n",
    "    query = QueryParser(\"content\", indexer.schema).parse(\"random\")\n",
    "    res = searcher.search(query)\n",
    "\n",
    "    for i in res:\n",
    "        print(f\"File {i['filename']}\")"
   ]
  },
  {
   "cell_type": "code",
   "execution_count": null,
   "metadata": {},
   "outputs": [],
   "source": []
  }
 ],
 "metadata": {
  "kernelspec": {
   "display_name": ".venv",
   "language": "python",
   "name": "python3"
  },
  "language_info": {
   "codemirror_mode": {
    "name": "ipython",
    "version": 3
   },
   "file_extension": ".py",
   "mimetype": "text/x-python",
   "name": "python",
   "nbconvert_exporter": "python",
   "pygments_lexer": "ipython3",
   "version": "3.12.7"
  }
 },
 "nbformat": 4,
 "nbformat_minor": 2
}
