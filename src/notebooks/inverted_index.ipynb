{
 "cells": [
  {
   "cell_type": "markdown",
   "metadata": {},
   "source": [
    "# Inverted Index"
   ]
  },
  {
   "cell_type": "code",
   "execution_count": 67,
   "metadata": {},
   "outputs": [],
   "source": [
    "%load_ext autoreload\n",
    "%autoreload 2"
   ]
  },
  {
   "cell_type": "code",
   "execution_count": null,
   "metadata": {},
   "outputs": [
    {
     "name": "stderr",
     "output_type": "stream",
     "text": [
      "[nltk_data] Downloading package stopwords to D:\\Code\\nltk_data...\n",
      "[nltk_data]   Package stopwords is already up-to-date!\n",
      "[nltk_data] Downloading package punkt_tab to D:\\Code\\nltk_data...\n",
      "[nltk_data]   Package punkt_tab is already up-to-date!\n"
     ]
    },
    {
     "data": {
      "text/plain": [
       "True"
      ]
     },
     "execution_count": 69,
     "metadata": {},
     "output_type": "execute_result"
    }
   ],
   "source": [
    "import math\n",
    "import os\n",
    "import re\n",
    "import shutil\n",
    "from collections import Counter, defaultdict\n",
    "\n",
    "import nltk\n",
    "from nltk.corpus import stopwords\n",
    "\n",
    "from utils import from_current_file, load_json, round_float, save_json\n",
    "\n",
    "nltk.download(\"stopwords\")\n",
    "nltk.download(\"punkt_tab\")"
   ]
  },
  {
   "cell_type": "code",
   "execution_count": null,
   "metadata": {},
   "outputs": [],
   "source": [
    "def compute_levenshtein_distance(w1: str, w2: str) -> int:\n",
    "    if len(w1) < len(w2):\n",
    "        return compute_levenshtein_distance(w2, w1)\n",
    "\n",
    "    if len(w2) == 0:\n",
    "        return len(w1)\n",
    "\n",
    "    previous_row = range(len(w2) + 1)\n",
    "\n",
    "    for i, letter1 in enumerate(w1):\n",
    "        current_row = [i + 1]\n",
    "        for j, letter2 in enumerate(w2):\n",
    "            add = previous_row[j + 1] + 1\n",
    "            delete = current_row[j] + 1\n",
    "            change = previous_row[j] + (letter1 != letter2)\n",
    "            current_row.append(min(add, delete, change))\n",
    "\n",
    "        previous_row = current_row\n",
    "\n",
    "    return previous_row[-1]"
   ]
  },
  {
   "cell_type": "code",
   "execution_count": null,
   "metadata": {},
   "outputs": [
    {
     "name": "stdout",
     "output_type": "stream",
     "text": [
      "Score: 1.19829\tFile: cmath.sin\n",
      "Score: 1.08936\tFile: math.sin\n",
      "Score: 0.90195\tFile: math.asin\n",
      "Score: 0.84365\tFile: os.killpg\n",
      "Score: 0.83988\tFile: cmath.rect\n",
      "Score: 0.8297\tFile: curses.ascii.SI\n",
      "Score: 0.8297\tFile: curses.ascii.SYN\n",
      "Score: 0.77932\tFile: stat.S_ISUID\n",
      "Score: 0.77228\tFile: math.sinh\n",
      "Score: 0.77228\tFile: cmath.sinh\n"
     ]
    }
   ],
   "source": [
    "class Indexer:\n",
    "    _stop_words = set(stopwords.words(\"english\"))\n",
    "\n",
    "    def __init__(\n",
    "        self,\n",
    "        index_dir: str = \"../data/index_directory\",\n",
    "        documents_dir: str = \"../data/scrapped/class_data_function__1_1\",\n",
    "        max_distance: int = 3,\n",
    "        force: bool = False,\n",
    "    ):\n",
    "        self._index_dir = from_current_file(index_dir)\n",
    "        self._documents_dir = from_current_file(documents_dir)\n",
    "        self.max_distance = max_distance\n",
    "\n",
    "        self._index_path = os.path.join(self._index_dir, \"index.json\")\n",
    "        self._doc_word_count_path = os.path.join(\n",
    "            self._index_dir, \"document_word_count.json\"\n",
    "        )\n",
    "        self._doc_id_path = os.path.join(self._index_dir, \"documents.json\")\n",
    "        self._doc_len_path = os.path.join(self._index_dir, \"document_lengths.json\")\n",
    "\n",
    "        self.index = defaultdict(set)  # {word : set(document id)}\n",
    "        self.document_word_count = defaultdict(Counter)  # {document id -> word -> count}\n",
    "        self.documents: dict[int, str] = {}  # {id: document title}\n",
    "        self.document_lengths: dict[int, int] = {}  # doc_id -> total words in document\n",
    "\n",
    "        if force or not os.path.exists(self._index_dir):\n",
    "            print(\"Index is not found, creating new...\")\n",
    "            if force:\n",
    "                try:\n",
    "                    shutil.rmtree(self._index_dir)\n",
    "                except FileNotFoundError:\n",
    "                    pass\n",
    "            os.mkdir(path=self._index_dir)\n",
    "            self.build_index()\n",
    "            print(\"Complete!\")\n",
    "\n",
    "        self.load_index()\n",
    "\n",
    "    def _tokenize(self, text: str) -> list[str]:\n",
    "        return [w for w in re.findall(r\"\\w+\", text.lower()) if w not in self._stop_words]\n",
    "\n",
    "    def _get_similar_words(self, word: str) -> set[tuple[str, float]]:\n",
    "        matches = set()\n",
    "        for index_word in self.index:\n",
    "            distance = compute_levenshtein_distance(word, index_word)\n",
    "            if distance <= self.max_distance:\n",
    "                matches.add(\n",
    "                    (index_word, 1 / (1 + distance))\n",
    "                )  # add inverse distance factor\n",
    "        return matches\n",
    "\n",
    "    def build_index(self):\n",
    "        for document_id, filename in enumerate(os.listdir(self._documents_dir)):\n",
    "            if filename.endswith(\".txt\"):\n",
    "                with open(\n",
    "                    os.path.join(self._documents_dir, filename), \"r\", encoding=\"utf-8\"\n",
    "                ) as f:\n",
    "                    text = f.read()\n",
    "                    self.documents[document_id] = filename[:-4]\n",
    "                    words = self._tokenize(text)\n",
    "                    self.document_lengths[document_id] = len(words)\n",
    "\n",
    "                    for word in words:\n",
    "                        self.index[word].add(document_id)\n",
    "                        self.document_word_count[document_id][word] += 1\n",
    "\n",
    "        save_json(self._index_path, {k: list(v) for k, v in self.index.items()})\n",
    "        save_json(self._doc_word_count_path, self.document_word_count)\n",
    "        save_json(self._doc_id_path, self.documents)\n",
    "        save_json(self._doc_len_path, self.document_lengths)\n",
    "\n",
    "    def load_index(self):\n",
    "        self.index = {k: set(v) for k, v in load_json(self._index_path).items()}\n",
    "        self.document_word_count = {\n",
    "            int(k): v for k, v in load_json(self._doc_word_count_path).items()\n",
    "        }\n",
    "        self.documents = {int(k): v for k, v in load_json(self._doc_id_path).items()}\n",
    "        self.document_lengths = {\n",
    "            int(k): v for k, v in load_json(self._doc_len_path).items()\n",
    "        }\n",
    "\n",
    "    def find(self, query: str, top_k: int = 10) -> list:\n",
    "        query_words = self._tokenize(query)\n",
    "        document_scores = Counter()\n",
    "        total_documents = len(self.documents)\n",
    "\n",
    "        for word in query_words:\n",
    "            matching_words = self._get_similar_words(word) | {(word, 1)}\n",
    "\n",
    "            for match, distance_coef in matching_words:\n",
    "                if match in self.index:\n",
    "                    doc_freq = len(self.index[match])\n",
    "                    idf = math.log(total_documents / (1 + doc_freq))\n",
    "\n",
    "                    for doc_id in self.index[match]:\n",
    "                        tf = (\n",
    "                            self.document_word_count[doc_id][match]\n",
    "                            / self.document_lengths[doc_id]\n",
    "                        )\n",
    "                        document_scores[doc_id] += tf * idf * distance_coef  # type: ignore\n",
    "\n",
    "        ranked_docs = sorted(document_scores.items(), key=lambda x: -x[1])[:top_k]\n",
    "        return [\n",
    "            (self.documents[doc_id], round_float(score, 5))\n",
    "            for doc_id, score in ranked_docs\n",
    "        ]\n",
    "\n",
    "\n",
    "indexer = Indexer(max_distance=3)\n",
    "results = indexer.find(\"sin\")\n",
    "for doc, score in results:\n",
    "    print(f\"Score: {score}\\tFile: {doc}\")"
   ]
  }
 ],
 "metadata": {
  "kernelspec": {
   "display_name": ".venv",
   "language": "python",
   "name": "python3"
  },
  "language_info": {
   "codemirror_mode": {
    "name": "ipython",
    "version": 3
   },
   "file_extension": ".py",
   "mimetype": "text/x-python",
   "name": "python",
   "nbconvert_exporter": "python",
   "pygments_lexer": "ipython3",
   "version": "3.12.4"
  }
 },
 "nbformat": 4,
 "nbformat_minor": 2
}
