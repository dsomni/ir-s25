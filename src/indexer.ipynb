{
 "cells": [
  {
   "cell_type": "markdown",
   "metadata": {},
   "source": [
    "# Indexer"
   ]
  },
  {
   "cell_type": "code",
   "execution_count": 1,
   "metadata": {},
   "outputs": [],
   "source": [
    "import os\n",
    "\n",
    "from whoosh.fields import ID, TEXT, Schema\n",
    "from whoosh.index import create_in, open_dir\n",
    "from whoosh.qparser import QueryParser\n",
    "from whoosh.writing import AsyncWriter"
   ]
  },
  {
   "cell_type": "code",
   "execution_count": 20,
   "metadata": {},
   "outputs": [
    {
     "data": {
      "text/plain": [
       "[('../data/scrapped/class_data_function__1_1\\\\errno.ERANGE.txt',\n",
       "  8.379354210767938),\n",
       " ('../data/scrapped/class_data_function__1_1\\\\math.cos.txt',\n",
       "  8.266379817405461),\n",
       " ('../data/scrapped/class_data_function__1_1\\\\math.cosh.txt',\n",
       "  8.266379817405461),\n",
       " ('../data/scrapped/class_data_function__1_1\\\\math.fabs.txt',\n",
       "  8.266379817405461),\n",
       " ('../data/scrapped/class_data_function__1_1\\\\math.sin.txt',\n",
       "  8.266379817405461),\n",
       " ('../data/scrapped/class_data_function__1_1\\\\math.sinh.txt',\n",
       "  8.266379817405461),\n",
       " ('../data/scrapped/class_data_function__1_1\\\\math.sqrt.txt',\n",
       "  8.266379817405461),\n",
       " ('../data/scrapped/class_data_function__1_1\\\\math.tan.txt',\n",
       "  8.266379817405461),\n",
       " ('../data/scrapped/class_data_function__1_1\\\\math.tanh.txt',\n",
       "  8.266379817405461),\n",
       " ('../data/scrapped/class_data_function__1_1\\\\errno.EDOM.txt',\n",
       "  8.156411245920722)]"
      ]
     },
     "execution_count": 20,
     "metadata": {},
     "output_type": "execute_result"
    }
   ],
   "source": [
    "class Indexer:\n",
    "    def __init__(\n",
    "        self,\n",
    "        index_dir: str = \"../data/index_directory\",\n",
    "        documents_dir: str = \"../data/scrapped/class_data_function__1_1\",\n",
    "    ) -> None:\n",
    "        self._index_dir = index_dir\n",
    "        self._documents_dir = documents_dir\n",
    "\n",
    "        if not os.path.exists(self._index_dir):\n",
    "            print(\"Index is not found, creating new...\")\n",
    "            os.mkdir(path=self._index_dir)\n",
    "            self.build_index()\n",
    "            print(\"Complete!\")\n",
    "\n",
    "    def build_index(self):\n",
    "        schema = Schema(filename=ID(stored=True), content=TEXT)\n",
    "        create_in(self._index_dir, schema=schema)\n",
    "\n",
    "        with AsyncWriter(open_dir(self._index_dir)) as writer:\n",
    "            for filename in os.listdir(self._documents_dir):\n",
    "                filepath = os.path.join(self._documents_dir, filename)\n",
    "\n",
    "                if filename.endswith(\".txt\"):\n",
    "                    with open(filepath, \"r\", encoding=\"utf-8\") as file:\n",
    "                        content = file.read()\n",
    "                    writer.add_document(filename=filename, content=content)\n",
    "\n",
    "    def files_by_text(self, search_text: str) -> list[tuple[str, float]]:\n",
    "        indexer = open_dir(self._index_dir)\n",
    "\n",
    "        files = []\n",
    "        with indexer.searcher() as searcher:\n",
    "            query = QueryParser(\"content\", indexer.schema).parse(search_text)\n",
    "\n",
    "            for obj in searcher.search(query, scored=True):\n",
    "                files.append(\n",
    "                    (os.path.join(self._documents_dir, obj[\"filename\"]), obj.score)\n",
    "                )\n",
    "\n",
    "        return sorted(files, key=lambda x: -x[1])\n",
    "\n",
    "    @property\n",
    "    def documents_dir(self) -> str:\n",
    "        return self._documents_dir\n",
    "\n",
    "    @property\n",
    "    def index_dir(self) -> str:\n",
    "        return self._index_dir\n",
    "\n",
    "\n",
    "indexer = Indexer()\n",
    "indexer.files_by_text(\"math\")"
   ]
  },
  {
   "cell_type": "code",
   "execution_count": 21,
   "metadata": {},
   "outputs": [
    {
     "data": {
      "text/plain": [
       "[('../data/scrapped/class_data_function__1_1\\\\math.sin.txt',\n",
       "  19.517831997349482),\n",
       " ('../data/scrapped/class_data_function__1_1\\\\math.sinh.txt',\n",
       "  19.517831997349482),\n",
       " ('../data/scrapped/class_data_function__1_1\\\\math.asinh.txt',\n",
       "  19.258184104240534),\n",
       " ('../data/scrapped/class_data_function__1_1\\\\math.asin.txt',\n",
       "  18.285184708544108)]"
      ]
     },
     "execution_count": 21,
     "metadata": {},
     "output_type": "execute_result"
    }
   ],
   "source": [
    "indexer.files_by_text(\"math sine\")"
   ]
  },
  {
   "cell_type": "code",
   "execution_count": 24,
   "metadata": {},
   "outputs": [
    {
     "data": {
      "text/plain": [
       "[('../data/scrapped/class_data_function__1_1\\\\mmap.MAP_ALIGNED_SUPER.txt',\n",
       "  8.98474591692113),\n",
       " ('../data/scrapped/class_data_function__1_1\\\\mmap.MAP_ANON.txt',\n",
       "  8.98474591692113),\n",
       " ('../data/scrapped/class_data_function__1_1\\\\mmap.MAP_ANONYMOUS.txt',\n",
       "  8.98474591692113),\n",
       " ('../data/scrapped/class_data_function__1_1\\\\mmap.MAP_CONCEAL.txt',\n",
       "  8.98474591692113),\n",
       " ('../data/scrapped/class_data_function__1_1\\\\mmap.MAP_DENYWRITE.txt',\n",
       "  8.98474591692113),\n",
       " ('../data/scrapped/class_data_function__1_1\\\\mmap.MAP_EXECUTABLE.txt',\n",
       "  8.98474591692113),\n",
       " ('../data/scrapped/class_data_function__1_1\\\\mmap.MAP_POPULATE.txt',\n",
       "  8.98474591692113),\n",
       " ('../data/scrapped/class_data_function__1_1\\\\mmap.MAP_PRIVATE.txt',\n",
       "  8.98474591692113),\n",
       " ('../data/scrapped/class_data_function__1_1\\\\mmap.MAP_SHARED.txt',\n",
       "  8.98474591692113),\n",
       " ('../data/scrapped/class_data_function__1_1\\\\mmap.MAP_STACK.txt',\n",
       "  8.98474591692113)]"
      ]
     },
     "execution_count": 24,
     "metadata": {},
     "output_type": "execute_result"
    }
   ],
   "source": [
    "indexer.files_by_text(\"constant\")"
   ]
  }
 ],
 "metadata": {
  "kernelspec": {
   "display_name": ".venv",
   "language": "python",
   "name": "python3"
  },
  "language_info": {
   "codemirror_mode": {
    "name": "ipython",
    "version": 3
   },
   "file_extension": ".py",
   "mimetype": "text/x-python",
   "name": "python",
   "nbconvert_exporter": "python",
   "pygments_lexer": "ipython3",
   "version": "3.12.4"
  }
 },
 "nbformat": 4,
 "nbformat_minor": 2
}
