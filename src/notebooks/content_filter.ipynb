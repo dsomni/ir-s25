{
 "cells": [
  {
   "cell_type": "code",
   "execution_count": 2,
   "id": "50897113",
   "metadata": {},
   "outputs": [],
   "source": [
    "import requests\n",
    "\n",
    "\n",
    "def fetch_words(url):\n",
    "    response = requests.get(url)\n",
    "    if response.status_code == 200:\n",
    "        return response.text.splitlines()\n",
    "    return []\n",
    "\n",
    "\n",
    "# URLs of the raw word lists\n",
    "google_en = requests.get(\n",
    "    \"https://raw.githubusercontent.com/coffee-and-fun/google-profanity-words/main/data/en.txt\"\n",
    ").text.splitlines()\n",
    "ldnoobw_en = requests.get(\n",
    "    \"https://raw.githubusercontent.com/LDNOOBW/List-of-Dirty-Naughty-Obscene-and-Otherwise-Bad-Words/master/en\"\n",
    ").text.splitlines()\n",
    "ldnoobw_rus = requests.get(\n",
    "    \"https://raw.githubusercontent.com/LDNOOBW/List-of-Dirty-Naughty-Obscene-and-Otherwise-Bad-Words/master/ru\"\n",
    ").text.splitlines()\n",
    "# Add other URLs as needed\n",
    "\n",
    "\n",
    "def sanitize_wordlist(words):\n",
    "    \"\"\"Remove duplicates, empty lines, and normalize case\"\"\"\n",
    "    return sorted({w.strip().lower() for w in words if w.strip()})\n",
    "\n",
    "\n",
    "with open(\"bad_words.txt\", \"w\", encoding=\"utf-8\") as f:\n",
    "    f.write(\"\\n\".join(sanitize_wordlist(google_en + ldnoobw_en + ldnoobw_rus)))"
   ]
  },
  {
   "cell_type": "code",
   "execution_count": 11,
   "id": "ae34674a",
   "metadata": {},
   "outputs": [],
   "source": [
    "from pybloom_live import ScalableBloomFilter\n",
    "\n",
    "\n",
    "class OptimizedBloomModerator:\n",
    "    def __init__(self, phrase_length=5):\n",
    "        # Grows dynamically while maintaining error rate\n",
    "        self.filter = ScalableBloomFilter(\n",
    "            initial_capacity=5000,  # Increased for phrases\n",
    "            error_rate=0.001,\n",
    "            mode=ScalableBloomFilter.LARGE_SET_GROWTH,\n",
    "        )\n",
    "        self.phrase_length = phrase_length\n",
    "        self._load_words()\n",
    "\n",
    "    def _load_words(self):\n",
    "        with open(\"bad_words.txt\", \"r\", encoding=\"utf-8\") as f:\n",
    "            for line in f:\n",
    "                line = line.strip().lower()\n",
    "                # Add single words\n",
    "                self.filter.add(line)\n",
    "                # Add phrases split by underscores (if present)\n",
    "                if \"_\" in line:\n",
    "                    self.filter.add(line.replace(\"_\", \" \"))\n",
    "\n",
    "    def check_text(self, text):\n",
    "        words = text.lower().split()\n",
    "\n",
    "        # Check single words\n",
    "        if any(word in self.filter for word in words):\n",
    "            return True\n",
    "\n",
    "        # Check multi-word phrases\n",
    "        for i in range(len(words)):\n",
    "            for j in range(1, self.phrase_length + 1):\n",
    "                if i + j > len(words):\n",
    "                    continue\n",
    "                phrase = \" \".join(words[i : i + j])\n",
    "                if phrase in self.filter:\n",
    "                    return True\n",
    "        return False\n",
    "\n",
    "\n",
    "moderator = OptimizedBloomModerator()"
   ]
  },
  {
   "cell_type": "code",
   "execution_count": 13,
   "id": "c5a69c78",
   "metadata": {},
   "outputs": [
    {
     "data": {
      "text/plain": [
       "False"
      ]
     },
     "execution_count": 13,
     "metadata": {},
     "output_type": "execute_result"
    }
   ],
   "source": [
    "moderator.check_text(\"sin на in фиг python\")"
   ]
  },
  {
   "cell_type": "code",
   "execution_count": null,
   "id": "05e0e27f",
   "metadata": {},
   "outputs": [],
   "source": []
  }
 ],
 "metadata": {
  "kernelspec": {
   "display_name": ".venv",
   "language": "python",
   "name": "python3"
  },
  "language_info": {
   "codemirror_mode": {
    "name": "ipython",
    "version": 3
   },
   "file_extension": ".py",
   "mimetype": "text/x-python",
   "name": "python",
   "nbconvert_exporter": "python",
   "pygments_lexer": "ipython3",
   "version": "3.12.2"
  }
 },
 "nbformat": 4,
 "nbformat_minor": 5
}
