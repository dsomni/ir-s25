{
 "cells": [
  {
   "cell_type": "code",
   "execution_count": null,
   "id": "6656b951",
   "metadata": {},
   "outputs": [],
   "source": [
    "from g4f.client import Client"
   ]
  },
  {
   "cell_type": "code",
   "execution_count": 2,
   "id": "c5575255",
   "metadata": {},
   "outputs": [
    {
     "name": "stderr",
     "output_type": "stream",
     "text": [
      "c:\\Users\\nikit\\PycharmProjects\\ir-s25\\.venv\\Lib\\site-packages\\tqdm\\auto.py:21: TqdmWarning: IProgress not found. Please update jupyter and ipywidgets. See https://ipywidgets.readthedocs.io/en/stable/user_install.html\n",
      "  from .autonotebook import tqdm as notebook_tqdm\n"
     ]
    }
   ],
   "source": [
    "import torch\n",
    "from transformers import AutoModel, AutoTokenizer"
   ]
  },
  {
   "cell_type": "code",
   "execution_count": null,
   "id": "0b97b0d6",
   "metadata": {},
   "outputs": [],
   "source": [
    "class BERTEmbedder:\n",
    "    def __init__(self, model_name=\"sentence-transformers/stsb-bert-base\", device=None):\n",
    "        self.device = device or \"cpu\"\n",
    "        self.tokenizer = AutoTokenizer.from_pretrained(model_name)\n",
    "        self.model = AutoModel.from_pretrained(model_name).to(self.device)\n",
    "        self.model.eval()\n",
    "\n",
    "        self.do_lower_case = getattr(self.tokenizer, \"do_lower_case\", False)\n",
    "\n",
    "    def text_to_embedding(self, texts, pooling=\"mean\", normalize=False):\n",
    "        is_single = isinstance(texts, str)\n",
    "        texts = [texts] if is_single else texts\n",
    "\n",
    "        inputs = self.tokenizer(\n",
    "            texts, return_tensors=\"pt\", padding=True, truncation=True, max_length=128\n",
    "        ).to(self.device)\n",
    "\n",
    "        with torch.no_grad():\n",
    "            outputs = self.model(**inputs)\n",
    "\n",
    "        if pooling == \"mean\":\n",
    "            mask = inputs[\"attention_mask\"].unsqueeze(-1)\n",
    "            embeddings = (outputs.last_hidden_state * mask).sum(1) / mask.sum(1).clamp(\n",
    "                min=1e-9\n",
    "            )\n",
    "        elif pooling == \"cls\":\n",
    "            embeddings = outputs.last_hidden_state[:, 0, :]\n",
    "        else:\n",
    "            raise ValueError(\"Invalid pooling method\")\n",
    "\n",
    "        if normalize:\n",
    "            embeddings = torch.nn.functional.normalize(embeddings, p=2, dim=1)\n",
    "\n",
    "        return embeddings.cpu().numpy()[0] if is_single else embeddings.cpu().numpy()"
   ]
  },
  {
   "cell_type": "markdown",
   "id": "9c2263ba",
   "metadata": {},
   "source": [
    "### ADD INDEXER/"
   ]
  },
  {
   "cell_type": "code",
   "execution_count": null,
   "id": "5691a7c1",
   "metadata": {},
   "outputs": [],
   "source": []
  },
  {
   "cell_type": "code",
   "execution_count": null,
   "id": "ed98b7b0",
   "metadata": {},
   "outputs": [],
   "source": [
    "class RAG:\n",
    "    indexer = None\n",
    "    embeder = BERTEmbedder()\n",
    "    docs = None\n",
    "\n",
    "    def __init__(self, model: str):\n",
    "        self.client = Client()\n",
    "        self.model = model\n",
    "\n",
    "    def _retrive_docs(self, query: str, k: int = 10):\n",
    "        query_embeding = self.embeder.text_to_embedding(query)\n",
    "\n",
    "        distances, indices = self.indexer.search(query_embeding, k)\n",
    "\n",
    "        return [self.docs[i] for i in indices[0]]\n",
    "\n",
    "    def get_answer(self, question: str, k: int = 10):\n",
    "        context = self._retrive_docs(question)\n",
    "\n",
    "        prompt = f\"\"\"You're a Python expert. Answer strictly according to the documentation wich is marked as 'Context' below.  \n",
    "                If there is no answer in the context, say, \"I can't find the answer in the Python documentation\n",
    "                Context:\n",
    "                {context}\n",
    "                Question: {question}\n",
    "\n",
    "                Response (with reference to the source [1-{k}]):\"\"\"\n",
    "\n",
    "        messages = [{\"role\": \"user\", \"content\": question}]\n",
    "\n",
    "        response = self.client.chat.completions.create(\n",
    "            model=self.model, messages=messages, web_search=False\n",
    "        )\n",
    "\n",
    "        return response.choices[0].message.content"
   ]
  },
  {
   "cell_type": "code",
   "execution_count": null,
   "id": "3367be08",
   "metadata": {},
   "outputs": [],
   "source": [
    "rag_model = RAG(\"gpt4gpt-4o-mini\")\n",
    "\n",
    "question = \"Sin and Cos\"\n",
    "\n",
    "rag_model.get_answer(question=question)"
   ]
  }
 ],
 "metadata": {
  "kernelspec": {
   "display_name": ".venv",
   "language": "python",
   "name": "python3"
  },
  "language_info": {
   "codemirror_mode": {
    "name": "ipython",
    "version": 3
   },
   "file_extension": ".py",
   "mimetype": "text/x-python",
   "name": "python",
   "nbconvert_exporter": "python",
   "pygments_lexer": "ipython3",
   "version": "3.12.8"
  }
 },
 "nbformat": 4,
 "nbformat_minor": 5
}
