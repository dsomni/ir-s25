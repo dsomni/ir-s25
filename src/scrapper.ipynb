{
 "cells": [
  {
   "cell_type": "markdown",
   "metadata": {},
   "source": [
    "# Scrapper"
   ]
  },
  {
   "cell_type": "code",
   "execution_count": 14,
   "metadata": {},
   "outputs": [],
   "source": [
    "from bs4 import BeautifulSoup as bs\n",
    "import requests\n",
    "import json\n",
    "import os\n",
    "from tqdm import tqdm\n",
    "from typing import Literal"
   ]
  },
  {
   "cell_type": "code",
   "execution_count": 15,
   "metadata": {},
   "outputs": [],
   "source": [
    "# Documentation links\n",
    "DOCS_INDEX_URL = \"https://docs.python.org/3.12/py-modindex.html\"\n",
    "DOCS_URL_PREFIX = \"https://docs.python.org/3.12/\"\n",
    "\n",
    "# FileSystem paths\n",
    "SAVE_FOLDER = \"../data\""
   ]
  },
  {
   "cell_type": "markdown",
   "metadata": {},
   "source": [
    "## Utils"
   ]
  },
  {
   "cell_type": "code",
   "execution_count": 16,
   "metadata": {},
   "outputs": [],
   "source": [
    "def save_json(path: str, data: dict):\n",
    "    with open(\n",
    "        path,\n",
    "        \"w\",\n",
    "        encoding=\"utf-8\",\n",
    "    ) as f:\n",
    "        json.dump(data, f, indent=4)\n",
    "\n",
    "\n",
    "def load_json(path: str) -> dict:\n",
    "    with open(\n",
    "        path,\n",
    "        \"r\",\n",
    "        encoding=\"utf-8\",\n",
    "    ) as f:\n",
    "        return json.load(f)"
   ]
  },
  {
   "cell_type": "code",
   "execution_count": 17,
   "metadata": {},
   "outputs": [],
   "source": [
    "def load_context(url: str) -> bs:\n",
    "    response = requests.get(url)\n",
    "    if response.status_code == 200:\n",
    "        return bs(response.text, \"html.parser\")\n",
    "    raise RuntimeError(f\"Response code is {response.status_code}\")"
   ]
  },
  {
   "cell_type": "markdown",
   "metadata": {},
   "source": [
    "## Keys loading"
   ]
  },
  {
   "cell_type": "code",
   "execution_count": null,
   "metadata": {},
   "outputs": [
    {
     "name": "stdout",
     "output_type": "stream",
     "text": [
      "len(modules_index)=241\n"
     ]
    }
   ],
   "source": [
    "class ModulesIndex:\n",
    "    def __init__(\n",
    "        self, skip_platform_specific: bool = True, skip_deprecated: bool = True\n",
    "    ) -> None:\n",
    "        self._skip_platform_specific = skip_platform_specific\n",
    "        self._skip_deprecated = skip_deprecated\n",
    "\n",
    "        self._name = \"index\"\n",
    "        self._settings = (\n",
    "            f\"{int(self._skip_platform_specific)}_{int(self._skip_deprecated)}\"\n",
    "        )\n",
    "        self._path = os.path.join(\n",
    "            SAVE_FOLDER,\n",
    "            f\"{self._name}_{self._settings}.json\",\n",
    "        )\n",
    "\n",
    "        self._load()\n",
    "\n",
    "    def _load(self):\n",
    "        if os.path.exists(self._path):\n",
    "            self._data = load_json(self._path)\n",
    "            return\n",
    "        self._data = self._scrap(load_context(DOCS_INDEX_URL))\n",
    "        save_json(self._path, self._data)\n",
    "\n",
    "    def _scrap(self, soup: bs) -> dict[str, dict[str, str]]:\n",
    "        data = {}\n",
    "        for row in soup.select(\"table > tr\"):\n",
    "            _, module_info, desc_info = row.select(\"td\")\n",
    "            platform_specific_part = module_info.select_one(\"em\")\n",
    "\n",
    "            if self._skip_platform_specific and (\n",
    "                platform_specific_part is not None\n",
    "                and platform_specific_part.text.startswith(\"(\")\n",
    "            ):\n",
    "                continue\n",
    "\n",
    "            module_a = module_info.select_one(\"a\")\n",
    "            if module_a is None:\n",
    "                continue\n",
    "\n",
    "            module_name: str = module_a.text\n",
    "            if module_name.startswith(\"_\"):\n",
    "                continue\n",
    "\n",
    "            module_ref = module_a.get(\"href\")\n",
    "\n",
    "            if module_ref is None:\n",
    "                continue\n",
    "\n",
    "            desc: str = desc_info.text.strip()\n",
    "            if desc == \"\":\n",
    "                continue\n",
    "            if self._skip_deprecated and desc.startswith(\"Deprecated\"):\n",
    "                continue\n",
    "\n",
    "            data[module_name] = {\n",
    "                \"link\": f\"{DOCS_URL_PREFIX}{module_ref}\",\n",
    "                \"description\": desc,\n",
    "            }\n",
    "        return data\n",
    "\n",
    "    @property\n",
    "    def data(self) -> dict[str, dict[str, str]]:\n",
    "        return self._data\n",
    "\n",
    "    @property\n",
    "    def settings(self) -> str:\n",
    "        return self._settings\n",
    "\n",
    "    def __len__(self) -> int:\n",
    "        return len(self._data)\n",
    "\n",
    "\n",
    "modules_index = ModulesIndex()\n",
    "\n",
    "print(f\"{len(modules_index)=}\")"
   ]
  },
  {
   "cell_type": "markdown",
   "metadata": {},
   "source": [
    "## Modules Scrapper"
   ]
  },
  {
   "cell_type": "code",
   "execution_count": null,
   "metadata": {},
   "outputs": [
    {
     "name": "stdout",
     "output_type": "stream",
     "text": [
      "len(scrapper)=2018\n"
     ]
    }
   ],
   "source": [
    "class ModulesScrapper:\n",
    "    def __init__(\n",
    "        self,\n",
    "        modules_index: ModulesIndex,\n",
    "        include: list[Literal[\"class\", \"function\", \"exception\", \"data\"]] = [\"function\"],\n",
    "    ) -> None:\n",
    "        self._include = include\n",
    "        self._modules_index = modules_index\n",
    "        self._length = 0\n",
    "\n",
    "        self._build_selector()\n",
    "\n",
    "        self._name = f\"{'_'.join(sorted(self._include))}__{self._modules_index.settings}\"\n",
    "        self._path = os.path.join(SAVE_FOLDER, \"scrapped\", self._name)\n",
    "        os.makedirs(self._path, exist_ok=True)\n",
    "\n",
    "    def _build_selector(self):\n",
    "        if len(self._include) == 0:\n",
    "            raise RuntimeError(\"Selector is empty!\")\n",
    "        self._selector = \", \".join([f\".py.{selector}\" for selector in self._include])\n",
    "\n",
    "    def _save(self, name: str, data: str):\n",
    "        with open(\n",
    "            os.path.join(self._path, f\"{name}.txt\"),\n",
    "            \"w\",\n",
    "            encoding=\"utf-8\",\n",
    "        ) as f:\n",
    "            f.write(data)\n",
    "\n",
    "    def _scrap_and_save(self):\n",
    "        modules_data = self._modules_index.data\n",
    "        for module_name, info in tqdm(\n",
    "            modules_data.items(), desc=\"Scrapping\", total=len(modules_data)\n",
    "        ):\n",
    "            module_context = load_context(info[\"link\"])\n",
    "\n",
    "            # TODO: add classes handling\n",
    "\n",
    "            for element in module_context.select(self._selector):\n",
    "                description = \"\\n\".join([x.text.strip() for x in element.select(\"dd\")])\n",
    "                for object in element.select(\"dt.sig-object\"):\n",
    "                    # Name\n",
    "                    pre_name = object.select_one(\"span.sig-prename\")\n",
    "                    name = object.select_one(\"span.sig-name\")\n",
    "\n",
    "                    if pre_name is None or name is None:\n",
    "                        continue\n",
    "                    full_name = f\"{pre_name.text.strip()}{name.text.strip()}\"\n",
    "\n",
    "                    # Parameters\n",
    "                    parameters_info = \"\"\n",
    "                    params = [x.text for x in object.select(\"em.sig-param\")]\n",
    "                    if len(params) > 0:\n",
    "                        parameters_info = \", \".join(params)\n",
    "\n",
    "                    # Save\n",
    "                    self._save(\n",
    "                        full_name,\n",
    "                        f\"{full_name} FROM {module_name}\\n\\nPARAMETERS\\n{parameters_info}\\n\\nDESCRIPTION\\n{description}\",\n",
    "                    )\n",
    "\n",
    "    def load(\n",
    "        self,\n",
    "        force: bool = False,\n",
    "    ):\n",
    "        if force or (not os.path.exists(self._path) or len(os.listdir(self._path)) == 0):\n",
    "            self._scrap_and_save()\n",
    "        self._length = len(os.listdir(self._path))\n",
    "\n",
    "    def __len__(self) -> int:\n",
    "        return self._length\n",
    "\n",
    "\n",
    "scrapper = ModulesScrapper(modules_index)\n",
    "scrapper.load()\n",
    "\n",
    "print(f\"{len(scrapper)=}\")"
   ]
  }
 ],
 "metadata": {
  "kernelspec": {
   "display_name": ".venv",
   "language": "python",
   "name": "python3"
  },
  "language_info": {
   "codemirror_mode": {
    "name": "ipython",
    "version": 3
   },
   "file_extension": ".py",
   "mimetype": "text/x-python",
   "name": "python",
   "nbconvert_exporter": "python",
   "pygments_lexer": "ipython3",
   "version": "3.12.4"
  }
 },
 "nbformat": 4,
 "nbformat_minor": 2
}
