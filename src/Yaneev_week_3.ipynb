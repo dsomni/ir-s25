{
 "cells": [
  {
   "cell_type": "code",
   "execution_count": 13,
   "metadata": {},
   "outputs": [],
   "source": [
    "from bs4 import BeautifulSoup as BS\n",
    "import requests\n",
    "import os"
   ]
  },
  {
   "cell_type": "markdown",
   "metadata": {},
   "source": [
    "### Links to documentation"
   ]
  },
  {
   "cell_type": "code",
   "execution_count": 14,
   "metadata": {},
   "outputs": [],
   "source": [
    "url = \"https://docs.python.org/3.12/py-modindex.html\"\n",
    "url_to_dir_mod = \"https://docs.python.org/3.12/\""
   ]
  },
  {
   "cell_type": "markdown",
   "metadata": {},
   "source": [
    "### Function to get html"
   ]
  },
  {
   "cell_type": "code",
   "execution_count": 15,
   "metadata": {},
   "outputs": [],
   "source": [
    "def get_context(url: str) -> requests.models.Response:\n",
    "    response = requests.get(url)\n",
    "    if response.status_code == 200:\n",
    "        return BS(response.text, \"html.parser\")\n",
    "    else:\n",
    "        return None"
   ]
  },
  {
   "cell_type": "markdown",
   "metadata": {},
   "source": [
    "### call func + remove useless part"
   ]
  },
  {
   "cell_type": "code",
   "execution_count": 16,
   "metadata": {},
   "outputs": [],
   "source": [
    "soup = get_context(url)\n",
    "\n",
    "soup_cor = soup.find(\"table\")"
   ]
  },
  {
   "cell_type": "markdown",
   "metadata": {},
   "source": [
    "### Save as dict name + url, for easy future work"
   ]
  },
  {
   "cell_type": "code",
   "execution_count": null,
   "metadata": {},
   "outputs": [],
   "source": [
    "all_modules = {}\n",
    "\n",
    "for link in soup_cor.select(\"a\"):\n",
    "    module_name = link.text\n",
    "    all_modules[module_name] = url_to_dir_mod + link.get(\"href\")"
   ]
  },
  {
   "cell_type": "markdown",
   "metadata": {},
   "source": [
    "### Go through each module and access its url.\n",
    "### Then we pull out the name of the module and its description and write it to the folder of this module, under the name of the function or class."
   ]
  },
  {
   "cell_type": "code",
   "execution_count": null,
   "metadata": {},
   "outputs": [],
   "source": [
    "for module in all_modules.keys():\n",
    "    module_data = get_context(all_modules[module])\n",
    "\n",
    "    folder_name = f\"py_3_12_9_{module}\"\n",
    "    os.makedirs(folder_name, exist_ok=True)\n",
    "\n",
    "    for func in module_data.select(\".py.function, .py.class\"):\n",
    "        name_of_func = func.find(\"span\", class_=\"sig-name\").text.strip()\n",
    "\n",
    "        descripton = func.find_next(\"dd\").text.strip()\n",
    "\n",
    "        with open(\n",
    "            os.path.join(folder_name, f\"{name_of_func}.txt\"), \"w\", encoding=\"utf-8\"\n",
    "        ) as f:\n",
    "            f.write(descripton)"
   ]
  }
 ],
 "metadata": {
  "kernelspec": {
   "display_name": ".venv",
   "language": "python",
   "name": "python3"
  },
  "language_info": {
   "codemirror_mode": {
    "name": "ipython",
    "version": 3
   },
   "file_extension": ".py",
   "mimetype": "text/x-python",
   "name": "python",
   "nbconvert_exporter": "python",
   "pygments_lexer": "ipython3",
   "version": "3.12.7"
  }
 },
 "nbformat": 4,
 "nbformat_minor": 2
}
